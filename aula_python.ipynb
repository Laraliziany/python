{
  "nbformat": 4,
  "nbformat_minor": 0,
  "metadata": {
    "colab": {
      "provenance": [],
      "authorship_tag": "ABX9TyNOxBRZLBJQ2hxsmfjWIq78",
      "include_colab_link": true
    },
    "kernelspec": {
      "name": "python3",
      "display_name": "Python 3"
    },
    "language_info": {
      "name": "python"
    }
  },
  "cells": [
    {
      "cell_type": "markdown",
      "metadata": {
        "id": "view-in-github",
        "colab_type": "text"
      },
      "source": [
        "<a href=\"https://colab.research.google.com/github/Laraliziany/python/blob/main/aula_python.ipynb\" target=\"_parent\"><img src=\"https://colab.research.google.com/assets/colab-badge.svg\" alt=\"Open In Colab\"/></a>"
      ]
    },
    {
      "cell_type": "markdown",
      "source": [
        " # **Aula** 1 ✈ ❤ 🦩"
      ],
      "metadata": {
        "id": "u7XjvbU96hM1"
      }
    },
    {
      "cell_type": "code",
      "execution_count": null,
      "metadata": {
        "colab": {
          "base_uri": "https://localhost:8080/"
        },
        "id": "sxkc_sB_yDda",
        "outputId": "dc58a679-c08a-4926-b740-c3112461bab2"
      },
      "outputs": [
        {
          "output_type": "stream",
          "name": "stdout",
          "text": [
            "I competição de programação dá Start\n",
            "Ix competição de programação da Start\n",
            "Ix competição de programação da Start\n"
          ]
        }
      ],
      "source": [
        "print(\"I competição de programação dá Start\")\n",
        "ano = \"Ix\"\n",
        "print(ano, \"competição de programação da Start\")\n",
        "print(f\"{ano} competição de programação da Start\")"
      ]
    },
    {
      "cell_type": "markdown",
      "source": [
        "# **Aula** 2 ✈ ♒ ◀\n"
      ],
      "metadata": {
        "id": "IBggATC503Un"
      }
    },
    {
      "cell_type": "code",
      "source": [
        "livro_ficcao = 8\n",
        "livro_n_ficcao = 10\n",
        "livro_infantil = 6\n",
        "pontos_rodrigo = livro_ficcao + livro_n_ficcao + livro_infantil\n",
        "print(f\"Os pontos totais do Rodrigo são {pontos_rodrigo}\")"
      ],
      "metadata": {
        "colab": {
          "base_uri": "https://localhost:8080/"
        },
        "id": "uBRNPU2N1Acp",
        "outputId": "2f8f6653-7f43-4004-9036-c0979ba3d523"
      },
      "execution_count": null,
      "outputs": [
        {
          "output_type": "stream",
          "name": "stdout",
          "text": [
            "Os pontos totais do Rodrigo são 24\n"
          ]
        }
      ]
    },
    {
      "cell_type": "markdown",
      "source": [
        " # **Aula** 3 ✌ 👍 😜"
      ],
      "metadata": {
        "id": "lvzbYAiJ2xak"
      }
    },
    {
      "cell_type": "code",
      "source": [
        "numero_de_alunos = int(input(\"Digite a quantidade de alunos: \"))\n",
        "numero_de_monitores = int(input(\"Digite a quantidade de monitores: \"))\n",
        "numero_de_professores = 8\n",
        "if numero_de_alunos + numero_de_monitores + numero_de_professores <= 50:\n",
        " resposta_positiva = \"pode ir\"\n",
        "resposta_negativa = \"não pode ir\"\n",
        "if numero_de_alunos + numero_de_monitores + numero_de_professores <= 50:\n",
        " print(resposta_positiva)\n",
        "else:\n",
        " print(resposta_negativa)"
      ],
      "metadata": {
        "colab": {
          "base_uri": "https://localhost:8080/"
        },
        "id": "gF5Ko6_y2zkC",
        "outputId": "ddbe82f3-5d5e-4b52-e6ac-dd4cbad7f87d"
      },
      "execution_count": null,
      "outputs": [
        {
          "output_type": "stream",
          "name": "stdout",
          "text": [
            "Digite a quantidade de alunos: 30\n",
            "Digite a quantidade de monitores: 10\n",
            "pode ir\n"
          ]
        }
      ]
    },
    {
      "cell_type": "markdown",
      "source": [
        " # **Aula** 4 💯 🇱 🇬"
      ],
      "metadata": {
        "id": "TYXFmOXY3Ilp"
      }
    },
    {
      "cell_type": "code",
      "source": [
        "P= int(input(\"Digite a posição da porta P (0 ou 1): \"))\n",
        "R = int(input(\"Digite a posição da porta R (0 ou 1): \"))\n",
        "if P == 0:\n",
        " print(\"C\")\n",
        "elif R == 1:\n",
        " print(\"A\")\n",
        "else:\n",
        " print(\"B\")"
      ],
      "metadata": {
        "colab": {
          "base_uri": "https://localhost:8080/"
        },
        "id": "tfTqse0R3LCn",
        "outputId": "53b70d53-1888-4b58-e63e-b8cf2c6e4d38"
      },
      "execution_count": null,
      "outputs": [
        {
          "output_type": "stream",
          "name": "stdout",
          "text": [
            "Digite a posição da porta P (0 ou 1): 67\n",
            "Digite a posição da porta R (0 ou 1): 169\n",
            "B\n"
          ]
        }
      ]
    },
    {
      "cell_type": "markdown",
      "source": [
        " # **Aula** 5 🐱 ♎ 🤪"
      ],
      "metadata": {
        "id": "h6JULCgZ3XkN"
      }
    },
    {
      "cell_type": "code",
      "source": [
        "def tabuada(numero):\n",
        "    for contador in range(1, 11): # Gera números de 1 a 10\n",
        "        print(f\"{numero} x {contador} = {numero * contador}\")\n",
        "numero = int(input(\"Digite um número para ver sua tabuada: \"))\n",
        "tabuada(numero)"
      ],
      "metadata": {
        "colab": {
          "base_uri": "https://localhost:8080/"
        },
        "id": "-jD-8tCx3Z-L",
        "outputId": "4696f40e-cde6-4623-8052-668ddd03d843"
      },
      "execution_count": null,
      "outputs": [
        {
          "output_type": "stream",
          "name": "stdout",
          "text": [
            "Digite um número para ver sua tabuada: 5\n",
            "5 x 1 = 5\n",
            "5 x 2 = 10\n",
            "5 x 3 = 15\n",
            "5 x 4 = 20\n",
            "5 x 5 = 25\n",
            "5 x 6 = 30\n",
            "5 x 7 = 35\n",
            "5 x 8 = 40\n",
            "5 x 9 = 45\n",
            "5 x 10 = 50\n"
          ]
        }
      ]
    },
    {
      "cell_type": "markdown",
      "source": [
        " # **Aula** 6 ✈ ⏰ ⚓"
      ],
      "metadata": {
        "id": "PrghIp003u80"
      }
    },
    {
      "cell_type": "code",
      "source": [
        "peso= float(input(\"Digite seu peso (em kg): \"))\n",
        "altura = float(input(\"Digite sua altura (em metros): \"))\n",
        "imc = peso / (altura ** 2)\n",
        "print(f\"\\nSeu IMC é: {imc:.2f}\")\n",
        "if imc < 18.5:\n",
        "    print(\"Você está abaixo do peso.\")\n",
        "elif 18.5 <= imc < 25:\n",
        "      print(\"Você está no peso ideal.\")\n",
        "elif 25 <= imc < 30:\n",
        "      print(\"Você está com sobrepeso.\")\n",
        "else:\n",
        "      print(\"Você está acima do peso.\")"
      ],
      "metadata": {
        "colab": {
          "base_uri": "https://localhost:8080/"
        },
        "id": "mzA37v0t3xw6",
        "outputId": "ea9fd431-f5fe-4507-d938-c4effea6bb26"
      },
      "execution_count": null,
      "outputs": [
        {
          "output_type": "stream",
          "name": "stdout",
          "text": [
            "Digite seu peso (em kg): 67\n",
            "Digite sua altura (em metros): 169\n",
            "\n",
            "Seu IMC é: 0.00\n",
            "Você está abaixo do peso.\n"
          ]
        }
      ]
    },
    {
      "cell_type": "markdown",
      "source": [
        "# **Aula** 7 🎇 ⚓ 🍉"
      ],
      "metadata": {
        "id": "OwfN6wFc4Lu7"
      }
    },
    {
      "cell_type": "code",
      "source": [
        "print (\"Sou seu assistente virtual, como poso ajudar? \\n \")\n",
        "nome =input(\"digite seu nome: \")\n",
        "print(\"Olá,\" + nome + \". Qual é sua dúvida hoje? \" )"
      ],
      "metadata": {
        "colab": {
          "base_uri": "https://localhost:8080/"
        },
        "id": "ZfCCoUpu_QAd",
        "outputId": "3e8cda99-cd54-4124-a1ce-ccff08ad0271"
      },
      "execution_count": null,
      "outputs": [
        {
          "output_type": "stream",
          "name": "stdout",
          "text": [
            "Sou seu assistente virtual, como poso ajudar? \n",
            " \n",
            "digite seu nome:  Lara\n",
            "Olá, Lara. Qual é sua dúvida hoje? \n"
          ]
        }
      ]
    },
    {
      "cell_type": "code",
      "source": [
        "print (\"Sou seu assistente virtual, como poso ajudar? \\n \")\n",
        "nome =input(\"digite seu nome: \")\n",
        "print(f\"olá, {nome}. Qual é sua dúvida hoje \")\n",
        "resposta = input(\"Qual o assunto que deseja tratar: Matemática , Python , Javascript \").lower()\n",
        "if resposta == \"python\":\n",
        "  print(f\"Que bom {nome}, vamos falar sobre Python.  É simples e usado em automação e inteligência artificial.\")\n",
        "elif resposta == \"javascript\":\n",
        "  print(f\"Que bom {nome}, vamos falar sobre javascript. Cria interatividade em sites e aplicações web.\")\n",
        "elif respota == \"matematica\"\n",
        "  print(f\"Que bom {nome}, vamos falar sobre matematica. Estuda números, formas e padrões.\")\n",
        "else:\n",
        "  print(Desculpa,não sei tratar esse assunto)"
      ],
      "metadata": {
        "colab": {
          "base_uri": "https://localhost:8080/"
        },
        "id": "R53e5pQ8ApO8",
        "outputId": "ef0530b1-4c16-46cf-f994-b666a43362c1"
      },
      "execution_count": null,
      "outputs": [
        {
          "output_type": "stream",
          "name": "stdout",
          "text": [
            "Sou seu assistente virtual, como poso ajudar? \n",
            " \n",
            "digite seu nome: lara\n",
            "olá, lara. Qual é sua dúvida hoje \n",
            "Qual o assunto que deseja tratar: Matemática , Python , Javascript matematica\n",
            "Que bom lara, vamos falar sobre matematica. Estuda números, formas e padrões.\n"
          ]
        }
      ]
    },
    {
      "cell_type": "markdown",
      "source": [
        "#**aula8** 🐾 ✅ ❤"
      ],
      "metadata": {
        "id": "ftFtzn0FCFYF"
      }
    },
    {
      "cell_type": "code",
      "source": [],
      "metadata": {
        "id": "sH3LvIWMCl40"
      },
      "execution_count": null,
      "outputs": []
    }
  ]
}